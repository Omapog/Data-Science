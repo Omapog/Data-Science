{
 "cells": [
  {
   "cell_type": "code",
   "execution_count": 1,
   "id": "0828924b",
   "metadata": {},
   "outputs": [
    {
     "name": "stdout",
     "output_type": "stream",
     "text": [
      "hello data science world\n"
     ]
    }
   ],
   "source": [
    "print (\"hello data science world\")"
   ]
  },
  {
   "cell_type": "code",
   "execution_count": 2,
   "id": "c9ab7630",
   "metadata": {},
   "outputs": [
    {
     "name": "stdout",
     "output_type": "stream",
     "text": [
      "Tunde\n"
     ]
    }
   ],
   "source": [
    "print (\"Tunde\")"
   ]
  },
  {
   "cell_type": "code",
   "execution_count": 6,
   "id": "206cb321",
   "metadata": {},
   "outputs": [],
   "source": [
    "#Python is a widely used programming language in data science.\n",
    "\n",
    "#Python is an easy and case sensitive language"
   ]
  },
  {
   "cell_type": "markdown",
   "id": "d2fe87a1",
   "metadata": {},
   "source": [
    "#Add a cell above the current cell= Esc+A\n",
    "\n",
    "#Add a cell below the current cell= Esc+B\n",
    "\n",
    "#Delete the selected cell= Esc+D+D\n",
    "\n",
    "#Execute the cell= Ctrl+Enter OR Shift+Enter"
   ]
  },
  {
   "cell_type": "code",
   "execution_count": 5,
   "id": "c975f714",
   "metadata": {},
   "outputs": [
    {
     "data": {
      "text/plain": [
       "16"
      ]
     },
     "execution_count": 5,
     "metadata": {},
     "output_type": "execute_result"
    }
   ],
   "source": [
    "9+7"
   ]
  },
  {
   "cell_type": "code",
   "execution_count": 4,
   "id": "b566ebf6",
   "metadata": {},
   "outputs": [
    {
     "data": {
      "text/plain": [
       "2"
      ]
     },
     "execution_count": 4,
     "metadata": {},
     "output_type": "execute_result"
    }
   ],
   "source": [
    "26-24"
   ]
  },
  {
   "cell_type": "code",
   "execution_count": 5,
   "id": "a214912f",
   "metadata": {},
   "outputs": [
    {
     "data": {
      "text/plain": [
       "5.0"
      ]
     },
     "execution_count": 5,
     "metadata": {},
     "output_type": "execute_result"
    }
   ],
   "source": [
    "25/5"
   ]
  },
  {
   "cell_type": "code",
   "execution_count": 6,
   "id": "f615e37b",
   "metadata": {},
   "outputs": [
    {
     "data": {
      "text/plain": [
       "624"
      ]
     },
     "execution_count": 6,
     "metadata": {},
     "output_type": "execute_result"
    }
   ],
   "source": [
    "24*26"
   ]
  },
  {
   "cell_type": "code",
   "execution_count": 7,
   "id": "e6ee16bc",
   "metadata": {},
   "outputs": [
    {
     "data": {
      "text/plain": [
       "48"
      ]
     },
     "execution_count": 7,
     "metadata": {},
     "output_type": "execute_result"
    }
   ],
   "source": [
    "24+26-2"
   ]
  },
  {
   "cell_type": "code",
   "execution_count": null,
   "id": "e15ffd91",
   "metadata": {},
   "outputs": [],
   "source": []
  }
 ],
 "metadata": {
  "kernelspec": {
   "display_name": "Python 3 (ipykernel)",
   "language": "python",
   "name": "python3"
  },
  "language_info": {
   "codemirror_mode": {
    "name": "ipython",
    "version": 3
   },
   "file_extension": ".py",
   "mimetype": "text/x-python",
   "name": "python",
   "nbconvert_exporter": "python",
   "pygments_lexer": "ipython3",
   "version": "3.10.9"
  }
 },
 "nbformat": 4,
 "nbformat_minor": 5
}
